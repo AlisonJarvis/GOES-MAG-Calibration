{
 "cells": [
  {
   "cell_type": "markdown",
   "id": "8e536683-39bf-4fb1-83d0-1bb90a713b96",
   "metadata": {},
   "source": [
    "# ReadMe for GOES Calibration"
   ]
  },
  {
   "cell_type": "code",
   "execution_count": 1,
   "id": "59d3d389-097b-4e5a-b5bf-d5d550945116",
   "metadata": {},
   "outputs": [
    {
     "ename": "ModuleNotFoundError",
     "evalue": "No module named 'netCDF4'",
     "output_type": "error",
     "traceback": [
      "\u001b[0;31m---------------------------------------------------------------------------\u001b[0m",
      "\u001b[0;31mModuleNotFoundError\u001b[0m                       Traceback (most recent call last)",
      "Cell \u001b[0;32mIn[1], line 2\u001b[0m\n\u001b[1;32m      1\u001b[0m \u001b[38;5;66;03m# Import the calibration maneuver class\u001b[39;00m\n\u001b[0;32m----> 2\u001b[0m \u001b[38;5;28;01mfrom\u001b[39;00m \u001b[38;5;21;01mgoes_calibration_maneuvers\u001b[39;00m \u001b[38;5;28;01mimport\u001b[39;00m CalibrationManeuver\n",
      "File \u001b[0;32m~/Documents/MAG/Calibration Maneuver for Github/goes_calibration_maneuvers.py:7\u001b[0m\n\u001b[1;32m      5\u001b[0m \u001b[38;5;28;01mimport\u001b[39;00m \u001b[38;5;21;01mdeepdish\u001b[39;00m \u001b[38;5;28;01mas\u001b[39;00m \u001b[38;5;21;01mdd\u001b[39;00m\n\u001b[1;32m      6\u001b[0m \u001b[38;5;28;01mfrom\u001b[39;00m \u001b[38;5;21;01mglob\u001b[39;00m \u001b[38;5;28;01mimport\u001b[39;00m glob\n\u001b[0;32m----> 7\u001b[0m \u001b[38;5;28;01mimport\u001b[39;00m \u001b[38;5;21;01mnetCDF4\u001b[39;00m \u001b[38;5;28;01mas\u001b[39;00m \u001b[38;5;21;01mnc\u001b[39;00m\n\u001b[1;32m      8\u001b[0m \u001b[38;5;28;01mimport\u001b[39;00m \u001b[38;5;21;01mos\u001b[39;00m\n\u001b[1;32m      9\u001b[0m \u001b[38;5;28;01mimport\u001b[39;00m \u001b[38;5;21;01mcsv\u001b[39;00m\n",
      "\u001b[0;31mModuleNotFoundError\u001b[0m: No module named 'netCDF4'"
     ]
    }
   ],
   "source": [
    "# Import the calibration maneuver class\n",
    "from goes_calibration_maneuvers import CalibrationManeuver"
   ]
  },
  {
   "cell_type": "markdown",
   "id": "e924bba4-b060-4a42-8e12-941b5c68b01b",
   "metadata": {},
   "source": [
    "## Define a calibration maneuver instance"
   ]
  },
  {
   "cell_type": "code",
   "execution_count": null,
   "id": "3f7c179d-a810-4b78-b5d5-6a0b1fe674f1",
   "metadata": {},
   "outputs": [],
   "source": [
    "# Define a path to the folder containing the calibration maneuver data\n",
    "# Note: expects a folder containing l1b granule files\n",
    "l1b_folder_path = './G18 L1b Maneuver Data/'\n",
    "\n",
    "# Define a path to the relevant LUT\n",
    "lut_path = './G18_GMAG_CALINR_Parameters_RevA_v2.h5'\n",
    "\n",
    "# Use these to define a calibration maneuver object (note: this takes a long time)\n",
    "cal_maneuver = CalibrationManeuver(l1b_folder_path, lut_path)"
   ]
  },
  {
   "cell_type": "markdown",
   "id": "5cb4c6d1-4367-43dd-bce4-bdea3537015b",
   "metadata": {},
   "source": [
    "# Nominal (Spline) Method"
   ]
  },
  {
   "cell_type": "markdown",
   "id": "ddf91ee9-43c9-42bd-9801-14263ceeea7e",
   "metadata": {},
   "source": [
    "## Calculate single instance of bias and alignment"
   ]
  },
  {
   "cell_type": "markdown",
   "id": "ec678ac7-8ec1-4fb6-a6ed-8fac44270b09",
   "metadata": {},
   "source": [
    "### Outboard"
   ]
  },
  {
   "cell_type": "code",
   "execution_count": null,
   "id": "170529cb-6456-4de0-b2a0-87257a3a4b93",
   "metadata": {},
   "outputs": [],
   "source": [
    "# Define a value for the number of spline segments\n",
    "num_spline_segments = 10 # this is the number we have used in the past (***CHECK!!)\n",
    "\n",
    "# Calculate the bias and alignment\n",
    "bias_align = cal_maneuver.get_bias_alignment_spline('OB', num_spline_segments)\n",
    "\n",
    "# Output the results\n",
    "print('Outboard')\n",
    "print('Bias', bias_align['bias']) # prints the 3 component bias\n",
    "print('Alignment', bias_align['alignment']) # prints the 3 component alignment"
   ]
  },
  {
   "cell_type": "markdown",
   "id": "66c9c6a1-eb87-4be3-9a45-c80f754c1e84",
   "metadata": {},
   "source": [
    "### Inboard"
   ]
  },
  {
   "cell_type": "code",
   "execution_count": null,
   "id": "abd539a6-9d89-4e44-8985-e20e87e25bb7",
   "metadata": {},
   "outputs": [],
   "source": [
    "# Define a value for the number of spline segments\n",
    "num_spline_segments = 10 # this is the number we have used in the past (***CHECK!!)\n",
    "\n",
    "# Calculate the bias and alignment\n",
    "bias_align = cal_maneuver.get_bias_alignment_spline('IB', num_spline_segments)\n",
    "\n",
    "# Output the results\n",
    "print('Inboard')\n",
    "print('Bias', bias_align['bias']) # prints the 3 component bias\n",
    "print('Alignment', bias_align['alignment']) # prints the 3 component alignment"
   ]
  },
  {
   "cell_type": "markdown",
   "id": "5e715e03-f637-4eb8-9051-e1e0ad6604e7",
   "metadata": {},
   "source": [
    "## Write out a csv file with a range of spline segments"
   ]
  },
  {
   "cell_type": "markdown",
   "id": "5522e382-7f91-4550-8177-8b373bbc2040",
   "metadata": {},
   "source": [
    "### Outboard"
   ]
  },
  {
   "cell_type": "code",
   "execution_count": null,
   "id": "6de86819-e8fa-4900-9a42-f0e05cfe58bd",
   "metadata": {},
   "outputs": [],
   "source": [
    "# Define a path to save the csv file to\n",
    "csv_save_path = './ob_spline_iterations.csv'\n",
    "\n",
    "# Define a tuple with the minimum and maximum number of spline segments to use\n",
    "spline_segments = (1, 20)\n",
    "\n",
    "# Write out the csv file\n",
    "cal_maneuver.write_csv_file_spline('OB', spline_segments, csv_save_path)\n",
    "\n",
    "# Note: if you want to return the values to analyze in a format other than csv, use the option return=True in the write_csv_file_spline call"
   ]
  },
  {
   "cell_type": "markdown",
   "id": "64bd726b-d9bd-4f93-8c92-e02d10fc01c8",
   "metadata": {},
   "source": [
    "### Inboard"
   ]
  },
  {
   "cell_type": "code",
   "execution_count": null,
   "id": "36f0bf6b-db7d-4054-abfe-4e9359d64d7c",
   "metadata": {},
   "outputs": [],
   "source": [
    "# Define a path to save the csv file to\n",
    "csv_save_path = './ib_spline_iterations.csv'\n",
    "\n",
    "# Define a tuple with the minimum and maximum number of spline segments to use\n",
    "spline_segments = (1, 20)\n",
    "\n",
    "# Write out the csv file\n",
    "cal_maneuver.write_csv_file_spline('IB', spline_segments, csv_save_path)"
   ]
  },
  {
   "cell_type": "markdown",
   "id": "1185966d-fd2f-4d69-9731-71506ff2c7c3",
   "metadata": {},
   "source": [
    "## Create plots representing the maneuver correction (example for outboard)"
   ]
  },
  {
   "cell_type": "markdown",
   "id": "c1040e6a-b038-44fa-b8d0-8b6de2d9a91c",
   "metadata": {},
   "source": [
    "### Sensor Frame"
   ]
  },
  {
   "cell_type": "code",
   "execution_count": null,
   "id": "de622523-4479-4d02-8815-8dbd68db2501",
   "metadata": {},
   "outputs": [],
   "source": [
    "# Define a path to save the plot to\n",
    "image_save_path = './ob_sensor_plot_spline.png'\n",
    "\n",
    "# Bias and alignment calculated for a given number of spline segments (nominal 10)\n",
    "num_spline_segments = 10\n",
    "\n",
    "# Generate the plot\n",
    "cal_maneuver.generate_calibration_plot_spline('OB', image_save_path, num_spline_segments=num_spline_segments, frame='sensor')\n",
    "\n",
    "# Note: if you want the plot to not include the error subplot, use the option with_error=False in the generate_calibration_plot_spline call"
   ]
  },
  {
   "cell_type": "markdown",
   "id": "1af42577-f5fd-4d2a-97a8-3d2dedf5f32a",
   "metadata": {},
   "source": [
    "### EPN Frame"
   ]
  },
  {
   "cell_type": "code",
   "execution_count": null,
   "id": "508647c2-fccd-4dcd-8a46-bf30e30cbcaa",
   "metadata": {},
   "outputs": [],
   "source": [
    "# Define a path to save the plot to\n",
    "image_save_path = './ob_epn_plot_spline.png'\n",
    "\n",
    "# Bias and alignment calculated for given number of spline segments (nominal 10)\n",
    "num_spline_segments = 10\n",
    "\n",
    "# Generate the plot\n",
    "cal_maneuver.generate_calibration_plot_spline('OB', image_save_path, num_spline_segments=num_spline_segments, frame='epn')"
   ]
  },
  {
   "cell_type": "markdown",
   "id": "028d5452-e13a-4fcf-ae20-6787085257dc",
   "metadata": {},
   "source": [
    "# Juno-ish Method"
   ]
  },
  {
   "cell_type": "markdown",
   "id": "1ef68d9e-3a6b-41b2-8789-486583375a24",
   "metadata": {},
   "source": [
    "## Calculate single instance of bias and alignment"
   ]
  },
  {
   "cell_type": "markdown",
   "id": "3308eacf-bbb8-4ed3-b554-4fbefe36ecac",
   "metadata": {},
   "source": [
    "### Outboard"
   ]
  },
  {
   "cell_type": "code",
   "execution_count": null,
   "id": "08768da2-e5e6-4af7-968e-9df16f2c6ce0",
   "metadata": {},
   "outputs": [],
   "source": [
    "# Define the lag time in seconds\n",
    "lag_time = 10 # Nominal value\n",
    "\n",
    "# Calculate the bias and alignment\n",
    "bias_align = cal_maneuver.get_bias_alignment_junoish('OB', lag_time)\n",
    "\n",
    "# Output the results\n",
    "print('Outboard')\n",
    "print('Bias', bias_align['bias']) # prints the 3 component bias\n",
    "print('Alignment', bias_align['alignment']) # prints the 3 component alignment"
   ]
  },
  {
   "cell_type": "markdown",
   "id": "2984899b-aee6-44dc-9f49-b2c19dc138c5",
   "metadata": {},
   "source": [
    "### Inboard"
   ]
  },
  {
   "cell_type": "code",
   "execution_count": null,
   "id": "864bedda-6e69-48d1-809e-c80f3c46e6af",
   "metadata": {},
   "outputs": [],
   "source": [
    "# Define the lag time in seconds\n",
    "lag_time = 10 # Nominal value\n",
    "\n",
    "# Calculate the bias and alignment\n",
    "bias_align = cal_maneuver.get_bias_alignment_junoish('IB', lag_time)\n",
    "\n",
    "# Output the results\n",
    "print('Inboard')\n",
    "print('Bias', bias_align['bias']) # prints the 3 component bias\n",
    "print('Alignment', bias_align['alignment']) # prints the 3 component alignment"
   ]
  },
  {
   "cell_type": "markdown",
   "id": "abd505f5-a8a8-40ce-95a9-5f2f26b5c66e",
   "metadata": {},
   "source": [
    "## Write out a csv file with a range of lag times"
   ]
  },
  {
   "cell_type": "markdown",
   "id": "b85a25d6-160d-4ef7-b954-5db6c4d28451",
   "metadata": {},
   "source": [
    "### Outboard"
   ]
  },
  {
   "cell_type": "code",
   "execution_count": null,
   "id": "1774c83d-d37e-46ea-bed7-53d53006d738",
   "metadata": {},
   "outputs": [],
   "source": [
    "# Define a path to save the csv file to\n",
    "csv_save_path = './ob_junoish_iterations.csv'\n",
    "\n",
    "# Define the number of seconds to add to the lag time for each iteration\n",
    "lag_increment = 10\n",
    "# Define the number of iterations to increase the lag time and get results\n",
    "number_of_increments = 24\n",
    "# Note - the minimum lag time will be the lag increment in seconds, and the maximum lag_increment*number_of_increment seconds\n",
    "\n",
    "# Write out the csv file\n",
    "cal_maneuver.write_csv_file_junoish('OB', lag_increments, number_of_increments, csv_save_path)\n",
    "\n",
    "# Note: again, if you want to return the values to analyze, use return=True in the write_csv_file_junoish call"
   ]
  },
  {
   "cell_type": "markdown",
   "id": "3e2375b8-e371-4b9f-a50e-6c92f4ddb126",
   "metadata": {},
   "source": [
    "### Inboard"
   ]
  },
  {
   "cell_type": "code",
   "execution_count": null,
   "id": "2510f7e7-3eb0-40b3-9a68-1ab8bc3cecf2",
   "metadata": {},
   "outputs": [],
   "source": [
    "# Define a path to save the csv file to\n",
    "csv_save_path = './ib_junoish_iterations.csv'\n",
    "\n",
    "# Define the number of seconds to add to the lag time for each iteration\n",
    "lag_increment = 10\n",
    "# Define the number of iterations to increase the lag time and get results\n",
    "number_of_increments = 24\n",
    "# Note - the minimum lag time will be the lag increment in seconds, and the maximum lag_increment*number_of_increment seconds\n",
    "\n",
    "# Write out the csv file\n",
    "cal_maneuver.write_csv_file_junoish('IB', lag_increments, number_of_increments, csv_save_path)"
   ]
  },
  {
   "cell_type": "markdown",
   "id": "caf56761-3f58-4c84-9143-2b7fe04703d2",
   "metadata": {},
   "source": [
    "## Create plot representing the maneuver correction (example for outboard)"
   ]
  },
  {
   "cell_type": "code",
   "execution_count": null,
   "id": "fc23e67c-394f-4e76-843a-d92714a678ce",
   "metadata": {},
   "outputs": [],
   "source": [
    "# Define a path to save the plot to\n",
    "image_save_path = './ob_plot_junoish.png'\n",
    "\n",
    "# Bias and alignment calculated for a given lag time (nominal 10 seconds)\n",
    "lag_time = 10\n",
    "\n",
    "# Generate the plot\n",
    "cal_maneuver.generate_calibration_plot_junoish('OB', image_save_path, lag_time_seconds=lag_time)\n",
    "\n",
    "# Note: if you want the plot to not include the error subplot, use the option with_error=False in the generate_calibration_plot_junoish call"
   ]
  }
 ],
 "metadata": {
  "kernelspec": {
   "display_name": "Python 3 (ipykernel)",
   "language": "python",
   "name": "python3"
  },
  "language_info": {
   "codemirror_mode": {
    "name": "ipython",
    "version": 3
   },
   "file_extension": ".py",
   "mimetype": "text/x-python",
   "name": "python",
   "nbconvert_exporter": "python",
   "pygments_lexer": "ipython3",
   "version": "3.12.4"
  }
 },
 "nbformat": 4,
 "nbformat_minor": 5
}
